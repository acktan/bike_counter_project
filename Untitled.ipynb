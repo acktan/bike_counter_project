{
 "cells": [
  {
   "cell_type": "markdown",
   "id": "c2fd461c",
   "metadata": {},
   "source": [
    "External datapoints to leverage:\n",
    "- Vacations\n",
    "- Weather\n",
    "- Lockdowns / curfews\n",
    "- Fuel prices\n",
    "- "
   ]
  },
  {
   "cell_type": "code",
   "execution_count": 4,
   "id": "91efad02",
   "metadata": {},
   "outputs": [],
   "source": [
    "from pathlib import Path\n",
    "\n",
    "import numpy as np\n",
    "import pandas as pd\n",
    "import matplotlib.pyplot as plt\n",
    "import sklearn\n",
    "\n",
    "data = pd.read_parquet(Path('data') / 'train.parquet')"
   ]
  },
  {
   "cell_type": "code",
   "execution_count": 12,
   "id": "57fc252c",
   "metadata": {},
   "outputs": [
    {
     "data": {
      "text/html": [
       "<div>\n",
       "<style scoped>\n",
       "    .dataframe tbody tr th:only-of-type {\n",
       "        vertical-align: middle;\n",
       "    }\n",
       "\n",
       "    .dataframe tbody tr th {\n",
       "        vertical-align: top;\n",
       "    }\n",
       "\n",
       "    .dataframe thead th {\n",
       "        text-align: right;\n",
       "    }\n",
       "</style>\n",
       "<table border=\"1\" class=\"dataframe\">\n",
       "  <thead>\n",
       "    <tr style=\"text-align: right;\">\n",
       "      <th></th>\n",
       "      <th></th>\n",
       "      <th>bike_count</th>\n",
       "    </tr>\n",
       "    <tr>\n",
       "      <th>site_name</th>\n",
       "      <th>counter_name</th>\n",
       "      <th></th>\n",
       "    </tr>\n",
       "  </thead>\n",
       "  <tbody>\n",
       "    <tr>\n",
       "      <th>Totem 73 boulevard de Sébastopol</th>\n",
       "      <th>Totem 73 boulevard de Sébastopol S-N</th>\n",
       "      <td>1809231.0</td>\n",
       "    </tr>\n",
       "    <tr>\n",
       "      <th>Totem 64 Rue de Rivoli</th>\n",
       "      <th>Totem 64 Rue de Rivoli O-E</th>\n",
       "      <td>1406900.0</td>\n",
       "    </tr>\n",
       "    <tr>\n",
       "      <th>Totem 73 boulevard de Sébastopol</th>\n",
       "      <th>Totem 73 boulevard de Sébastopol N-S</th>\n",
       "      <td>1357868.0</td>\n",
       "    </tr>\n",
       "    <tr>\n",
       "      <th>67 boulevard Voltaire SE-NO</th>\n",
       "      <th>67 boulevard Voltaire SE-NO</th>\n",
       "      <td>1036575.0</td>\n",
       "    </tr>\n",
       "    <tr>\n",
       "      <th>Totem 64 Rue de Rivoli</th>\n",
       "      <th>Totem 64 Rue de Rivoli E-O</th>\n",
       "      <td>914089.0</td>\n",
       "    </tr>\n",
       "    <tr>\n",
       "      <th>27 quai de la Tournelle</th>\n",
       "      <th>27 quai de la Tournelle SE-NO</th>\n",
       "      <td>888717.0</td>\n",
       "    </tr>\n",
       "    <tr>\n",
       "      <th>Quai d'Orsay</th>\n",
       "      <th>Quai d'Orsay E-O</th>\n",
       "      <td>849724.0</td>\n",
       "    </tr>\n",
       "    <tr>\n",
       "      <th>Totem Cours la Reine</th>\n",
       "      <th>Totem Cours la Reine O-E</th>\n",
       "      <td>806149.0</td>\n",
       "    </tr>\n",
       "    <tr>\n",
       "      <th rowspan=\"2\" valign=\"top\">Face au 48 quai de la marne</th>\n",
       "      <th>Face au 48 quai de la marne SO-NE</th>\n",
       "      <td>806071.0</td>\n",
       "    </tr>\n",
       "    <tr>\n",
       "      <th>Face au 48 quai de la marne NE-SO</th>\n",
       "      <td>759194.0</td>\n",
       "    </tr>\n",
       "  </tbody>\n",
       "</table>\n",
       "</div>"
      ],
      "text/plain": [
       "                                                                       bike_count\n",
       "site_name                        counter_name                                    \n",
       "Totem 73 boulevard de Sébastopol Totem 73 boulevard de Sébastopol S-N   1809231.0\n",
       "Totem 64 Rue de Rivoli           Totem 64 Rue de Rivoli O-E             1406900.0\n",
       "Totem 73 boulevard de Sébastopol Totem 73 boulevard de Sébastopol N-S   1357868.0\n",
       "67 boulevard Voltaire SE-NO      67 boulevard Voltaire SE-NO            1036575.0\n",
       "Totem 64 Rue de Rivoli           Totem 64 Rue de Rivoli E-O              914089.0\n",
       "27 quai de la Tournelle          27 quai de la Tournelle SE-NO           888717.0\n",
       "Quai d'Orsay                     Quai d'Orsay E-O                        849724.0\n",
       "Totem Cours la Reine             Totem Cours la Reine O-E                806149.0\n",
       "Face au 48 quai de la marne      Face au 48 quai de la marne SO-NE       806071.0\n",
       "                                 Face au 48 quai de la marne NE-SO       759194.0"
      ]
     },
     "execution_count": 12,
     "metadata": {},
     "output_type": "execute_result"
    }
   ],
   "source": [
    "data.groupby(['site_name', 'counter_name'])['bike_count'].sum().sort_values(ascending=False).head(10).to_frame()"
   ]
  }
 ],
 "metadata": {
  "kernelspec": {
   "display_name": "Python 3 (ipykernel)",
   "language": "python",
   "name": "python3"
  },
  "language_info": {
   "codemirror_mode": {
    "name": "ipython",
    "version": 3
   },
   "file_extension": ".py",
   "mimetype": "text/x-python",
   "name": "python",
   "nbconvert_exporter": "python",
   "pygments_lexer": "ipython3",
   "version": "3.9.7"
  }
 },
 "nbformat": 4,
 "nbformat_minor": 5
}
